{
 "cells": [
  {
   "cell_type": "code",
   "execution_count": null,
   "metadata": {},
   "outputs": [
    {
     "data": {
      "text/plain": [
       "5"
      ]
     },
     "metadata": {},
     "output_type": "display_data"
    }
   ],
   "source": [
    "#WEEK 2\n",
    "def performOperation(num1, num2, operation):\n",
    "    if operation ==\"sum\":\n",
    "        return num1 + num2\n",
    "    if operation ==\"multiply\":\n",
    "        return num1 * num2\n",
    "performOperation(2,3,\"sum\")"
   ]
  },
  {
   "cell_type": "code",
   "execution_count": null,
   "metadata": {},
   "outputs": [
    {
     "data": {
      "text/plain": [
       "6"
      ]
     },
     "metadata": {},
     "output_type": "display_data"
    }
   ],
   "source": [
    "def performOperation(num1, num2, operation):\n",
    "    if operation ==\"sum\":\n",
    "        return num1 + num2\n",
    "    if operation ==\"multiply\":\n",
    "        return num1 * num2\n",
    "performOperation(2,3,\"multiply\")"
   ]
  },
  {
   "cell_type": "code",
   "execution_count": null,
   "metadata": {},
   "outputs": [],
   "source": [
    "def performOperation(num1, num2, operation):\n",
    "    if operation ==\"sum\":\n",
    "        return num1 + num2\n",
    "    if operation ==\"multiply\":\n",
    "        return num1 * num2\n",
    "performOperation(2,3,\"sum\")"
   ]
  },
  {
   "cell_type": "code",
   "execution_count": null,
   "metadata": {},
   "outputs": [
    {
     "name": "stdout",
     "output_type": "stream",
     "text": [
      "('a', 'b')\n"
     ]
    }
   ],
   "source": [
    "a = (\"a\", \"b\", \"c\", \"d\", \"e\", \"f\", \"g\", \"h\")\n",
    "x = slice(2)\n",
    "print(a[x])"
   ]
  },
  {
   "cell_type": "code",
   "execution_count": null,
   "metadata": {},
   "outputs": [
    {
     "name": "stdout",
     "output_type": "stream",
     "text": [
      "A new message!\n"
     ]
    },
    {
     "data": {
      "text/plain": [
       "6"
      ]
     },
     "metadata": {},
     "output_type": "display_data"
    }
   ],
   "source": [
    "def performOperation(num1,num2,operation= \"sum\",message=\"default message\"):\n",
    "    print(message)\n",
    "    if operation==\"sum\":\n",
    "        return num1 +num2\n",
    "    if operation==\"multiply\":\n",
    "        return num1 * num2\n",
    "performOperation(2,3, message =\"A new message!\",operation=\"multiply\")"
   ]
  },
  {
   "cell_type": "code",
   "execution_count": null,
   "metadata": {},
   "outputs": [
    {
     "name": "stdout",
     "output_type": "stream",
     "text": [
      "Successfully added!\n"
     ]
    },
    {
     "data": {
      "text/plain": [
       "8"
      ]
     },
     "metadata": {},
     "output_type": "display_data"
    }
   ],
   "source": [
    "def performOperation(num1,num2,operation= \"sum\",message=\"defualt message\"):\n",
    "    print(message)\n",
    "    if operation==\"sum\":\n",
    "        return num1 +num2\n",
    "    if operation==\"add\":\n",
    "        return num1 + num2\n",
    "performOperation(6,2, message =\"Successfully added!\",operation=\"add\")\n",
    "\n",
    "#DONE!!!"
   ]
  },
  {
   "cell_type": "code",
   "execution_count": null,
   "metadata": {},
   "outputs": [
    {
     "name": "stdout",
     "output_type": "stream",
     "text": [
      "(1, 2, 3)\n"
     ]
    }
   ],
   "source": [
    "def performOperation(*args):\n",
    "    print(args)\n",
    "performOperation(1,2,3)"
   ]
  },
  {
   "cell_type": "code",
   "execution_count": null,
   "metadata": {},
   "outputs": [
    {
     "name": "stdout",
     "output_type": "stream",
     "text": [
      "(1,)\n"
     ]
    }
   ],
   "source": [
    "def performOperation(*args):\n",
    "    print(args)\n",
    "performOperation(1)"
   ]
  },
  {
   "cell_type": "code",
   "execution_count": null,
   "metadata": {},
   "outputs": [
    {
     "name": "stdout",
     "output_type": "stream",
     "text": [
      "(1, 2, 3)\n",
      "{'operation': 'sum'}\n"
     ]
    }
   ],
   "source": [
    "def performOperation(*args,**kwargs):\n",
    "    print(args)\n",
    "    print(kwargs)\n",
    "performOperation(1,2,3,operation=\"sum\")\n",
    "#keyword arguments"
   ]
  },
  {
   "cell_type": "code",
   "execution_count": null,
   "metadata": {},
   "outputs": [
    {
     "data": {
      "text/plain": [
       "27"
      ]
     },
     "metadata": {},
     "output_type": "display_data"
    }
   ],
   "source": [
    "import math\n",
    "def performOperation(*args,operation= \"sum\"):\n",
    "    \n",
    "    if operation==\"sum\":\n",
    "        return sum(args)\n",
    "    if operation==\"multiply\":\n",
    "        return math.prod(args)\n",
    "performOperation(1,2,3,6,7,8,operation=\"sum\")"
   ]
  },
  {
   "cell_type": "code",
   "execution_count": null,
   "metadata": {},
   "outputs": [
    {
     "data": {
      "text/plain": [
       "27"
      ]
     },
     "metadata": {},
     "output_type": "display_data"
    }
   ],
   "source": [
    "import math\n",
    "def performOperation(*args,operation= \"sum\"):\n",
    "    \n",
    "    if operation==\"sum\":\n",
    "        return sum(args)\n",
    "    if operation==\"sum\":\n",
    "        return math.sumprod(args)\n",
    "performOperation(1,2,3,6,7,8,operation=\"sum\")"
   ]
  },
  {
   "cell_type": "code",
   "execution_count": null,
   "metadata": {},
   "outputs": [
    {
     "name": "stdout",
     "output_type": "stream",
     "text": [
      "(3, 4)\n",
      "{'operation': 'sum'}\n"
     ]
    }
   ],
   "source": [
    "def performOperation (*args, **kwargs):\n",
    "    print(args)\n",
    "    print(kwargs)\n",
    "performOperation(3,4,operation=\"sum\")"
   ]
  },
  {
   "cell_type": "code",
   "execution_count": null,
   "metadata": {},
   "outputs": [
    {
     "name": "stdout",
     "output_type": "stream",
     "text": [
      "{'num1': 1, 'num2': 2, 'operation': 'multiply'}\n"
     ]
    },
    {
     "ename": "NameError",
     "evalue": "name 'num1' is not defined",
     "output_type": "error",
     "traceback": [
      "\u001b[1;31m---------------------------------------------------------------------------\u001b[0m\n",
      "\u001b[1;31mNameError\u001b[0m                                 Traceback (most recent call last)\n",
      "Cell \u001b[1;32mIn[17], line 4\u001b[0m\n",
      "\u001b[0;32m      2\u001b[0m     \u001b[38;5;28mprint\u001b[39m(\u001b[38;5;28mlocals\u001b[39m())\n",
      "\u001b[0;32m      3\u001b[0m performOperation(\u001b[38;5;241m1\u001b[39m,\u001b[38;5;241m2\u001b[39m,operation\u001b[38;5;241m=\u001b[39m\u001b[38;5;124m\"\u001b[39m\u001b[38;5;124mmultiply\u001b[39m\u001b[38;5;124m\"\u001b[39m)\n",
      "\u001b[1;32m----> 4\u001b[0m \u001b[38;5;28mprint\u001b[39m(\u001b[43mnum1\u001b[49m)\n",
      "\n",
      "\u001b[1;31mNameError\u001b[0m: name 'num1' is not defined"
     ]
    }
   ],
   "source": [
    "def performOperation(num1,num2,operation=\"sum\"):\n",
    "    print(locals())\n",
    "performOperation(1,2,operation=\"multiply\")\n",
    "print(num1)"
   ]
  },
  {
   "cell_type": "code",
   "execution_count": null,
   "metadata": {},
   "outputs": [
    {
     "name": "stdout",
     "output_type": "stream",
     "text": [
      "{'num1': 1, 'num2': 2, 'operation': 'multiply'}\n",
      "1\n"
     ]
    }
   ],
   "source": [
    "def performOperation(num1,num2,operation=\"sum\"):\n",
    "    print(locals())\n",
    "    print(num1)\n",
    "performOperation(1,2,operation=\"multiply\")\n"
   ]
  },
  {
   "cell_type": "code",
   "execution_count": null,
   "metadata": {},
   "outputs": [
    {
     "data": {
      "text/plain": [
       "{'__name__': '__main__',\n",
       " '__doc__': 'Automatically created module for IPython interactive environment',\n",
       " '__package__': None,\n",
       " '__loader__': None,\n",
       " '__spec__': None,\n",
       " '__builtin__': <module 'builtins' (built-in)>,\n",
       " '__builtins__': <module 'builtins' (built-in)>,\n",
       " '_ih': ['',\n",
       "  'def performOperation(num1,num2,operation= \"sum\",message=\"default message\"):\\n    print(message)\\n    if operation==\"sum\":\\n        return num1 +num2\\n    if operation==\"multiply\":\\n        return num1 * num2\\nperformOperation(2,3, message =\"A new message!\",operation=\"multiply\")',\n",
       "  'def performOperation(num1,num2,operation= \"sum\",message=\"default message\"):\\n    print(message)\\n    if operation==\"sum\":\\n        return num1 +num2\\n    if operation==\"multiply\":\\n        return num1 * num2\\nperformOperation(2,3, message =\"A new message!\",operation=\"multiply\")',\n",
       "  'def performOperation(num1,num2,operation= \"sum\",message=\"successfully added\"):\\n    print(message)\\n    if operation==\"sum\":\\n        return num1 +num2\\n    if operation==\"add\":\\n        return num1 * num2\\nperformOperation(6,2, message =\"A new message!\",operation=\"add\")',\n",
       "  'def performOperation(num1,num2,operation= \"sum\",message=\"successfully added\"):\\n    print(message)\\n    if operation==\"sum\":\\n        return num1 +num2\\n    if operation==\"add\":\\n        return num1 + num2\\nperformOperation(6,2, message =\"A new message!\",operation=\"add\")',\n",
       "  'def performOperation(num1,num2,operation= \"sum\",message=\"defualt message\"):\\n    print(message)\\n    if operation==\"sum\":\\n        return num1 +num2\\n    if operation==\"add\":\\n        return num1 + num2\\nperformOperation(6,2, message =\"Successfully added!\",operation=\"add\")',\n",
       "  'def performOperation(*args):\\n    print(args)\\nperformOperation(1,2,3)',\n",
       "  'def performOperation(*args):\\n    print(args)\\nperformOperation(1)',\n",
       "  'def performOperation(*args,**kwargs):\\n    print(args)\\n    print(kwargs)\\nperformOperation(1,2,3,operation=\"sum\")',\n",
       "  'def performOperation(*args,operation= \"sum\"):\\n    \\n    if operation==\"sum\":\\n        return sum(args)\\n    if operation==\"multiply\":\\n        return math.prod(args)\\nperformOperation(1,2,3,6,7,8,operation=\"sum\")',\n",
       "  'import math\\ndef performOperation(*args,operation= \"sum\"):\\n    \\n    if operation==\"sum\":\\n        return sum(args)\\n    if operation==\"multiply\":\\n        return math.prod(args)\\nperformOperation(1,2,3,6,7,8,operation=\"sum\")',\n",
       "  'import math\\ndef performOperation(*args,operation= \"sum\"):\\n    \\n    if operation==\"sum\":\\n        return sum(args)\\n    if operation==\"sum\":\\n        return math.sumprod(args)\\nperformOperation(1,2,3,6,7,8,operation=\"sum\")',\n",
       "  'def performOperation (*args,**kwargs):\\n    print(args)\\n    print(kwargs)\\n    performOperation(1,2, operation=\"sum\")',\n",
       "  'def performOperation (*args,**kwargs):\\n    print(args)\\n    print(kwargs)\\n    performOperation(1,2, operation=\"sum\")',\n",
       "  'def performOperation (*args,**kwargs):\\n    print(args)\\n    print(kwargs)\\n    performOperation(3,4, operation=\"sum\")',\n",
       "  'def performOperation (*args,**kwargs):\\n    print(args)\\n    print(kwargs)\\n    performOperation(3,4,operation=\"sum\")',\n",
       "  'def performOperation (*args, **kwargs):\\n    print(args)\\n    print(kwargs)\\n    performOperation(3,4,operation=\"sum\")',\n",
       "  'def performOperation(num1,num2,operation=\"sum\"):\\n    print(locals())\\nperformOperation(1,2,operation=\"multiply\")\\nprint(num1)',\n",
       "  'def performOperation(num1,num2,operation=\"sum\"):\\n    print(locals())\\n    print(num1)\\nperformOperation(1,2,operation=\"multiply\")',\n",
       "  'globals()'],\n",
       " '_oh': {1: 6, 2: 6, 3: 12, 4: 8, 5: 8, 9: 27, 10: 27, 11: 27},\n",
       " '_dh': [WindowsPath('c:/Users/Anathi.Vato/Documents/Python-week--1'),\n",
       "  WindowsPath('c:/Users/Anathi.Vato/Documents/Python-week--1')],\n",
       " 'In': ['',\n",
       "  'def performOperation(num1,num2,operation= \"sum\",message=\"default message\"):\\n    print(message)\\n    if operation==\"sum\":\\n        return num1 +num2\\n    if operation==\"multiply\":\\n        return num1 * num2\\nperformOperation(2,3, message =\"A new message!\",operation=\"multiply\")',\n",
       "  'def performOperation(num1,num2,operation= \"sum\",message=\"default message\"):\\n    print(message)\\n    if operation==\"sum\":\\n        return num1 +num2\\n    if operation==\"multiply\":\\n        return num1 * num2\\nperformOperation(2,3, message =\"A new message!\",operation=\"multiply\")',\n",
       "  'def performOperation(num1,num2,operation= \"sum\",message=\"successfully added\"):\\n    print(message)\\n    if operation==\"sum\":\\n        return num1 +num2\\n    if operation==\"add\":\\n        return num1 * num2\\nperformOperation(6,2, message =\"A new message!\",operation=\"add\")',\n",
       "  'def performOperation(num1,num2,operation= \"sum\",message=\"successfully added\"):\\n    print(message)\\n    if operation==\"sum\":\\n        return num1 +num2\\n    if operation==\"add\":\\n        return num1 + num2\\nperformOperation(6,2, message =\"A new message!\",operation=\"add\")',\n",
       "  'def performOperation(num1,num2,operation= \"sum\",message=\"defualt message\"):\\n    print(message)\\n    if operation==\"sum\":\\n        return num1 +num2\\n    if operation==\"add\":\\n        return num1 + num2\\nperformOperation(6,2, message =\"Successfully added!\",operation=\"add\")',\n",
       "  'def performOperation(*args):\\n    print(args)\\nperformOperation(1,2,3)',\n",
       "  'def performOperation(*args):\\n    print(args)\\nperformOperation(1)',\n",
       "  'def performOperation(*args,**kwargs):\\n    print(args)\\n    print(kwargs)\\nperformOperation(1,2,3,operation=\"sum\")',\n",
       "  'def performOperation(*args,operation= \"sum\"):\\n    \\n    if operation==\"sum\":\\n        return sum(args)\\n    if operation==\"multiply\":\\n        return math.prod(args)\\nperformOperation(1,2,3,6,7,8,operation=\"sum\")',\n",
       "  'import math\\ndef performOperation(*args,operation= \"sum\"):\\n    \\n    if operation==\"sum\":\\n        return sum(args)\\n    if operation==\"multiply\":\\n        return math.prod(args)\\nperformOperation(1,2,3,6,7,8,operation=\"sum\")',\n",
       "  'import math\\ndef performOperation(*args,operation= \"sum\"):\\n    \\n    if operation==\"sum\":\\n        return sum(args)\\n    if operation==\"sum\":\\n        return math.sumprod(args)\\nperformOperation(1,2,3,6,7,8,operation=\"sum\")',\n",
       "  'def performOperation (*args,**kwargs):\\n    print(args)\\n    print(kwargs)\\n    performOperation(1,2, operation=\"sum\")',\n",
       "  'def performOperation (*args,**kwargs):\\n    print(args)\\n    print(kwargs)\\n    performOperation(1,2, operation=\"sum\")',\n",
       "  'def performOperation (*args,**kwargs):\\n    print(args)\\n    print(kwargs)\\n    performOperation(3,4, operation=\"sum\")',\n",
       "  'def performOperation (*args,**kwargs):\\n    print(args)\\n    print(kwargs)\\n    performOperation(3,4,operation=\"sum\")',\n",
       "  'def performOperation (*args, **kwargs):\\n    print(args)\\n    print(kwargs)\\n    performOperation(3,4,operation=\"sum\")',\n",
       "  'def performOperation(num1,num2,operation=\"sum\"):\\n    print(locals())\\nperformOperation(1,2,operation=\"multiply\")\\nprint(num1)',\n",
       "  'def performOperation(num1,num2,operation=\"sum\"):\\n    print(locals())\\n    print(num1)\\nperformOperation(1,2,operation=\"multiply\")',\n",
       "  'globals()'],\n",
       " 'Out': {1: 6, 2: 6, 3: 12, 4: 8, 5: 8, 9: 27, 10: 27, 11: 27},\n",
       " 'get_ipython': <bound method InteractiveShell.get_ipython of <ipykernel.zmqshell.ZMQInteractiveShell object at 0x000002EBBEBB4E30>>,\n",
       " 'exit': <IPython.core.autocall.ZMQExitAutocall at 0x2ebbebb56d0>,\n",
       " 'quit': <IPython.core.autocall.ZMQExitAutocall at 0x2ebbebb56d0>,\n",
       " 'open': <function _io.open(file, mode='r', buffering=-1, encoding=None, errors=None, newline=None, closefd=True, opener=None)>,\n",
       " '_': 27,\n",
       " '__': 27,\n",
       " '___': 27,\n",
       " '__vsc_ipynb_file__': 'c:\\\\Users\\\\Anathi.Vato\\\\Documents\\\\Python-week--1\\\\Practise.ipynb',\n",
       " '_i': 'def performOperation(num1,num2,operation=\"sum\"):\\n    print(locals())\\n    print(num1)\\nperformOperation(1,2,operation=\"multiply\")',\n",
       " '_ii': 'def performOperation(num1,num2,operation=\"sum\"):\\n    print(locals())\\nperformOperation(1,2,operation=\"multiply\")\\nprint(num1)',\n",
       " '_iii': 'def performOperation (*args, **kwargs):\\n    print(args)\\n    print(kwargs)\\n    performOperation(3,4,operation=\"sum\")',\n",
       " '_i1': 'def performOperation(num1,num2,operation= \"sum\",message=\"default message\"):\\n    print(message)\\n    if operation==\"sum\":\\n        return num1 +num2\\n    if operation==\"multiply\":\\n        return num1 * num2\\nperformOperation(2,3, message =\"A new message!\",operation=\"multiply\")',\n",
       " 'performOperation': <function __main__.performOperation(num1, num2, operation='sum')>,\n",
       " '_1': 6,\n",
       " '_i2': 'def performOperation(num1,num2,operation= \"sum\",message=\"default message\"):\\n    print(message)\\n    if operation==\"sum\":\\n        return num1 +num2\\n    if operation==\"multiply\":\\n        return num1 * num2\\nperformOperation(2,3, message =\"A new message!\",operation=\"multiply\")',\n",
       " '_2': 6,\n",
       " '_i3': 'def performOperation(num1,num2,operation= \"sum\",message=\"successfully added\"):\\n    print(message)\\n    if operation==\"sum\":\\n        return num1 +num2\\n    if operation==\"add\":\\n        return num1 * num2\\nperformOperation(6,2, message =\"A new message!\",operation=\"add\")',\n",
       " '_3': 12,\n",
       " '_i4': 'def performOperation(num1,num2,operation= \"sum\",message=\"successfully added\"):\\n    print(message)\\n    if operation==\"sum\":\\n        return num1 +num2\\n    if operation==\"add\":\\n        return num1 + num2\\nperformOperation(6,2, message =\"A new message!\",operation=\"add\")',\n",
       " '_4': 8,\n",
       " '_i5': 'def performOperation(num1,num2,operation= \"sum\",message=\"defualt message\"):\\n    print(message)\\n    if operation==\"sum\":\\n        return num1 +num2\\n    if operation==\"add\":\\n        return num1 + num2\\nperformOperation(6,2, message =\"Successfully added!\",operation=\"add\")',\n",
       " '_5': 8,\n",
       " '_i6': 'def performOperation(*args):\\n    print(args)\\nperformOperation(1,2,3)',\n",
       " '_i7': 'def performOperation(*args):\\n    print(args)\\nperformOperation(1)',\n",
       " '_i8': 'def performOperation(*args,**kwargs):\\n    print(args)\\n    print(kwargs)\\nperformOperation(1,2,3,operation=\"sum\")',\n",
       " '_i9': 'def performOperation(*args,operation= \"sum\"):\\n    \\n    if operation==\"sum\":\\n        return sum(args)\\n    if operation==\"multiply\":\\n        return math.prod(args)\\nperformOperation(1,2,3,6,7,8,operation=\"sum\")',\n",
       " '_9': 27,\n",
       " '_i10': 'import math\\ndef performOperation(*args,operation= \"sum\"):\\n    \\n    if operation==\"sum\":\\n        return sum(args)\\n    if operation==\"multiply\":\\n        return math.prod(args)\\nperformOperation(1,2,3,6,7,8,operation=\"sum\")',\n",
       " 'math': <module 'math' (built-in)>,\n",
       " '_10': 27,\n",
       " '_i11': 'import math\\ndef performOperation(*args,operation= \"sum\"):\\n    \\n    if operation==\"sum\":\\n        return sum(args)\\n    if operation==\"sum\":\\n        return math.sumprod(args)\\nperformOperation(1,2,3,6,7,8,operation=\"sum\")',\n",
       " '_11': 27,\n",
       " '_i12': 'def performOperation (*args,**kwargs):\\n    print(args)\\n    print(kwargs)\\n    performOperation(1,2, operation=\"sum\")',\n",
       " '_i13': 'def performOperation (*args,**kwargs):\\n    print(args)\\n    print(kwargs)\\n    performOperation(1,2, operation=\"sum\")',\n",
       " '_i14': 'def performOperation (*args,**kwargs):\\n    print(args)\\n    print(kwargs)\\n    performOperation(3,4, operation=\"sum\")',\n",
       " '_i15': 'def performOperation (*args,**kwargs):\\n    print(args)\\n    print(kwargs)\\n    performOperation(3,4,operation=\"sum\")',\n",
       " '_i16': 'def performOperation (*args, **kwargs):\\n    print(args)\\n    print(kwargs)\\n    performOperation(3,4,operation=\"sum\")',\n",
       " '_i17': 'def performOperation(num1,num2,operation=\"sum\"):\\n    print(locals())\\nperformOperation(1,2,operation=\"multiply\")\\nprint(num1)',\n",
       " '_i18': 'def performOperation(num1,num2,operation=\"sum\"):\\n    print(locals())\\n    print(num1)\\nperformOperation(1,2,operation=\"multiply\")',\n",
       " '_i19': 'globals()'}"
      ]
     },
     "metadata": {},
     "output_type": "display_data"
    }
   ],
   "source": [
    "globals()"
   ]
  },
  {
   "cell_type": "code",
   "execution_count": null,
   "metadata": {},
   "outputs": [
    {
     "name": "stdout",
     "output_type": "stream",
     "text": [
      "Some global\n",
      "{'varA': 1, 'varB': 2}\n",
      "Some global\n",
      "{'varC': 3, 'varB': 4}\n"
     ]
    }
   ],
   "source": [
    "message=\"Some global\"\n",
    "\n",
    "def function1(varA, varB):\n",
    "    print(message)\n",
    "    print(locals())\n",
    "\n",
    "def function2(varC, varB):\n",
    "    print(message)\n",
    "    print(locals())\n",
    "\n",
    "function1(1,2)\n",
    "function2(3,4)"
   ]
  },
  {
   "cell_type": "code",
   "execution_count": null,
   "metadata": {},
   "outputs": [],
   "source": [
    "x=5"
   ]
  },
  {
   "cell_type": "code",
   "execution_count": null,
   "metadata": {},
   "outputs": [],
   "source": [
    "def x():\n",
    "    return 5"
   ]
  },
  {
   "cell_type": "code",
   "execution_count": null,
   "metadata": {},
   "outputs": [
    {
     "name": "stdout",
     "output_type": "stream",
     "text": [
      "()\n",
      "b'\\x97\\x00y\\x01'\n"
     ]
    }
   ],
   "source": [
    "print(x.__code__.co_varnames)\n",
    "print(x.__code__.co_code)"
   ]
  },
  {
   "cell_type": "code",
   "execution_count": null,
   "metadata": {},
   "outputs": [],
   "source": [
    "text='''Friendship is one of life's greatest treasures.\n",
    "Friends that are loyal are always there to make you laugh when you are down, they are not afraid to help you avoid mistakes and they look out for your best interest.\n",
    " This kind of friend can be hard to find, but they offer a friendship that will last a lifetime.\n",
    "Other friends may not be quite as loving. The pain caused by a friendship marred by betrayal is not easy to overcome.\n",
    "In fact, many poems find their inspiration from the joy brought about by a loving friendship or the pain caused by a failed friendship.'''"
   ]
  },
  {
   "cell_type": "code",
   "execution_count": null,
   "metadata": {},
   "outputs": [],
   "source": [
    "def lowercase(text):\n",
    "    return text.lower()\n",
    "\n",
    "def removePunctuation(text):\n",
    "    punctuations=[\".\",\"'\",\"-\",\"_\"]\n",
    "    for punctuation in punctuations:\n",
    "        text=text.replace(punctuation,'')\n",
    "        return text\n",
    "def removeNewLines(text):\n",
    "    text=text.replace('\\n',' ')\n",
    "    return text\n",
    "\n",
    "def removeShortWords(text):\n",
    "    return ' '.join([word for word in text.split() if len(word) > 3])\n",
    " \n",
    "def removeShortWords(text):\n",
    "    return ' '.join([word for word in text.split() if len(word) <6 ])"
   ]
  },
  {
   "cell_type": "code",
   "execution_count": null,
   "metadata": {},
   "outputs": [
    {
     "data": {
      "text/plain": [
       "5"
      ]
     },
     "metadata": {},
     "output_type": "display_data"
    }
   ],
   "source": [
    "2+3"
   ]
  },
  {
   "cell_type": "code",
   "execution_count": null,
   "metadata": {},
   "outputs": [
    {
     "data": {
      "text/plain": [
       "8"
      ]
     },
     "metadata": {},
     "output_type": "display_data"
    }
   ],
   "source": [
    "(lambda x: x+3)(5) #added 3 to x, since x=5"
   ]
  },
  {
   "cell_type": "code",
   "execution_count": null,
   "metadata": {},
   "outputs": [
    {
     "data": {
      "text/plain": [
       "[2, 3, 4, 5]"
      ]
     },
     "metadata": {},
     "output_type": "display_data"
    }
   ],
   "source": [
    "myList=[5,4,3,2]\n",
    "sorted(myList)"
   ]
  },
  {
   "cell_type": "code",
   "execution_count": null,
   "metadata": {},
   "outputs": [
    {
     "data": {
      "text/plain": [
       "[{'num': 1}, {'num': 2}, {'num': 3}]"
      ]
     },
     "metadata": {},
     "output_type": "display_data"
    }
   ],
   "source": [
    "myList=[{'num':3},{'num':2},{'num':1}]\n",
    "sorted(myList, key=lambda x: x['num'])"
   ]
  },
  {
   "cell_type": "code",
   "execution_count": null,
   "metadata": {},
   "outputs": [],
   "source": [
    "import random\n",
    "import time"
   ]
  },
  {
   "cell_type": "code",
   "execution_count": null,
   "metadata": {},
   "outputs": [],
   "source": [
    "servicesAreUp=True\n",
    "\n",
    "def getData50():\n",
    "    if servicesAreUp and random.random() < 0.5:\n",
    "        return \"You have got the data!,that only happens 25% of the time\"\n",
    "def getData25():\n",
    "    if servicesAreUp and random.random() < 0.25:\n",
    "        return \"You have got the data!,that only happens 25% of the time\"\n",
    "    \n",
    "    def getData10():\n",
    "      if servicesAreUp and random.random() < 0.25:\n",
    "        return \"You have got the data!,that only happens 10% of the time\""
   ]
  },
  {
   "cell_type": "code",
   "execution_count": null,
   "metadata": {},
   "outputs": [],
   "source": [
    "def getWithRetry(datafunc):\n",
    "    pass"
   ]
  },
  {
   "cell_type": "code",
   "execution_count": null,
   "metadata": {},
   "outputs": [],
   "source": [
    "getWithRetry(getData50)"
   ]
  },
  {
   "cell_type": "code",
   "execution_count": null,
   "metadata": {},
   "outputs": [],
   "source": [
    "def getWithRetry(datafunc):\n",
    "    maxRetries=20\n",
    "    for _ in range(0,maxRetries):\n",
    "        response=datafunc()\n",
    "        if response:\n",
    "            return response"
   ]
  },
  {
   "cell_type": "code",
   "execution_count": null,
   "metadata": {},
   "outputs": [
    {
     "data": {
      "text/plain": [
       "6"
      ]
     },
     "metadata": {},
     "output_type": "display_data"
    }
   ],
   "source": [
    "456 % 10"
   ]
  },
  {
   "cell_type": "code",
   "execution_count": null,
   "metadata": {},
   "outputs": [
    {
     "data": {
      "text/plain": [
       "16"
      ]
     },
     "metadata": {},
     "output_type": "display_data"
    }
   ],
   "source": [
    "456 % 20"
   ]
  },
  {
   "cell_type": "code",
   "execution_count": null,
   "metadata": {},
   "outputs": [
    {
     "name": "stdout",
     "output_type": "stream",
     "text": [
      "Rover\n",
      "4\n"
     ]
    }
   ],
   "source": [
    "class Dog:\n",
    "    def __init__(self,name):\n",
    "        self.name=name\n",
    "        self.legs=4\n",
    "    def speak(self):\n",
    "        print(self.name + ' says: Break')\n",
    "myDog=Dog('Rover')\n",
    "print(myDog.name)\n",
    "print(myDog.legs)"
   ]
  },
  {
   "cell_type": "code",
   "execution_count": null,
   "metadata": {},
   "outputs": [
    {
     "name": "stdout",
     "output_type": "stream",
     "text": [
      "{'hiim', 'i', 'add', 'to', 'here', 'want', 'is', 'a', 'anathi', 'another', 'sentence'}\n"
     ]
    }
   ],
   "source": [
    "class WordSet:\n",
    "    def __init__(self):\n",
    "        self.words=set()\n",
    "    def addText(self, text):\n",
    "        text=WordSet.cleanText(text)\n",
    "        for word in text.split():\n",
    "            self.words.add(word)\n",
    "\n",
    "    def cleanText(text):\n",
    "        text=text.replace('!','').replace('.','').replace(',','').replace('\\'','')\n",
    "        return text.lower()\n",
    "    \n",
    "wordSet=WordSet()\n",
    "\n",
    "wordSet.addText('Hi,I\\'m Anathi! here is a sentence I want to add !')\n",
    "wordSet.addText('Here is another sentence I want to add.')\n",
    "\n",
    "print(wordSet.words)"
   ]
  },
  {
   "cell_type": "code",
   "execution_count": null,
   "metadata": {},
   "outputs": [],
   "source": [
    "class Dog:\n",
    "    _legs=4\n",
    "    def __init__(self,name):\n",
    "        self.name=name\n",
    "\n",
    "    def speak(self):\n",
    "        print(self.name + 'says :Bark!')\n",
    "\n",
    "    def getlegs(self):\n",
    "        return self._legs\n",
    "    \n",
    "class MyDogs(Dog):\n",
    "    def speak(self):\n",
    "        print(f'{self.name}says: Yap Yap Yap')\n",
    "\n",
    "    def wagTail(self):\n",
    "        print('Vigorous wagging!')"
   ]
  },
  {
   "cell_type": "code",
   "execution_count": null,
   "metadata": {},
   "outputs": [
    {
     "name": "stdout",
     "output_type": "stream",
     "text": [
      "Roxysays: Yap Yap Yap\n",
      "Vigorous wagging!\n"
     ]
    }
   ],
   "source": [
    "dog=MyDogs('Roxy')\n",
    "dog.speak()\n",
    "dog.wagTail()"
   ]
  },
  {
   "cell_type": "code",
   "execution_count": null,
   "metadata": {},
   "outputs": [
    {
     "name": "stdout",
     "output_type": "stream",
     "text": [
      "Roversays :Bark!\n"
     ]
    }
   ],
   "source": [
    "myDog=Dog('Rover')\n",
    "myDog.speak()"
   ]
  },
  {
   "cell_type": "code",
   "execution_count": null,
   "metadata": {},
   "outputs": [],
   "source": [
    "myList=list()"
   ]
  },
  {
   "cell_type": "code",
   "execution_count": null,
   "metadata": {},
   "outputs": [
    {
     "name": "stdout",
     "output_type": "stream",
     "text": [
      "[1, 2]\n"
     ]
    }
   ],
   "source": [
    "class UniqueList(list):\n",
    "    def append(self, item):\n",
    "        if item in self:\n",
    "            return\n",
    "        super().append(item)\n",
    "\n",
    "UniqueList=UniqueList()\n",
    "UniqueList.append(1)\n",
    "UniqueList.append(1)\n",
    "UniqueList.append(2)\n",
    "\n",
    "print(UniqueList)"
   ]
  },
  {
   "cell_type": "code",
   "execution_count": null,
   "metadata": {},
   "outputs": [
    {
     "ename": "ZeroDivisionError",
     "evalue": "division by zero",
     "output_type": "error",
     "traceback": [
      "\u001b[1;31m---------------------------------------------------------------------------\u001b[0m\n",
      "\u001b[1;31mZeroDivisionError\u001b[0m                         Traceback (most recent call last)\n",
      "Cell \u001b[1;32mIn[15], line 4\u001b[0m\n",
      "\u001b[0;32m      2\u001b[0m \u001b[38;5;28;01mdef\u001b[39;00m \u001b[38;5;21mcauseError\u001b[39m():\n",
      "\u001b[0;32m      3\u001b[0m     \u001b[38;5;28;01mreturn\u001b[39;00m \u001b[38;5;241m1\u001b[39m\u001b[38;5;241m/\u001b[39m\u001b[38;5;241m0\u001b[39m\n",
      "\u001b[1;32m----> 4\u001b[0m \u001b[43mcauseError\u001b[49m\u001b[43m(\u001b[49m\u001b[43m)\u001b[49m\n",
      "\n",
      "Cell \u001b[1;32mIn[15], line 3\u001b[0m, in \u001b[0;36mcauseError\u001b[1;34m()\u001b[0m\n",
      "\u001b[0;32m      2\u001b[0m \u001b[38;5;28;01mdef\u001b[39;00m \u001b[38;5;21mcauseError\u001b[39m():\n",
      "\u001b[1;32m----> 3\u001b[0m     \u001b[38;5;28;01mreturn\u001b[39;00m \u001b[38;5;241;43m1\u001b[39;49m\u001b[38;5;241;43m/\u001b[39;49m\u001b[38;5;241;43m0\u001b[39;49m\n",
      "\n",
      "\u001b[1;31mZeroDivisionError\u001b[0m: division by zero"
     ]
    }
   ],
   "source": [
    "# Errors and Exceptions\n",
    "def causeError():\n",
    "    return 1/0\n",
    "causeError()"
   ]
  },
  {
   "cell_type": "code",
   "execution_count": null,
   "metadata": {},
   "outputs": [
    {
     "name": "stdout",
     "output_type": "stream",
     "text": [
      "<class 'ZeroDivisionError'>\n"
     ]
    }
   ],
   "source": [
    "# Try/ Except\n",
    "try:\n",
    "    1/0\n",
    "except Exception as e:\n",
    "   print(type(e))"
   ]
  },
  {
   "cell_type": "code",
   "execution_count": null,
   "metadata": {},
   "outputs": [
    {
     "name": "stdout",
     "output_type": "stream",
     "text": [
      "There was some sort of error!\n"
     ]
    }
   ],
   "source": [
    "def causeError():\n",
    "    try:\n",
    "        return 1/0\n",
    "    except Exception:\n",
    "        print('There was some sort of error!')\n",
    "\n",
    "causeError()"
   ]
  },
  {
   "cell_type": "code",
   "execution_count": null,
   "metadata": {},
   "outputs": [
    {
     "name": "stdout",
     "output_type": "stream",
     "text": [
      "There was some sort of error!\n",
      "This will always execute!\n"
     ]
    }
   ],
   "source": [
    "def causeError():\n",
    "    try:\n",
    "        return 1/0\n",
    "    except Exception:\n",
    "        print('There was some sort of error!')\n",
    "    finally:\n",
    "        print('This will always execute!')\n",
    "\n",
    "causeError()"
   ]
  },
  {
   "cell_type": "code",
   "execution_count": null,
   "metadata": {},
   "outputs": [
    {
     "name": "stdout",
     "output_type": "stream",
     "text": [
      "There was some sort of error!\n",
      "Function took 0.500882625579834 seconds to execute\n"
     ]
    }
   ],
   "source": [
    "import time\n",
    "def causeError():\n",
    "    start= time.time()\n",
    "    try:\n",
    "        time.sleep(0.5)\n",
    "        return 1/0\n",
    "    except Exception:\n",
    "        print('There was some sort of error!')\n",
    "    finally:\n",
    "        print(f'Function took {time.time()- start} seconds to execute')\n",
    "\n",
    "causeError()"
   ]
  },
  {
   "cell_type": "code",
   "execution_count": null,
   "metadata": {},
   "outputs": [
    {
     "name": "stdout",
     "output_type": "stream",
     "text": [
      "There was a type error!\n"
     ]
    }
   ],
   "source": [
    "#import time\n",
    "def causeError():\n",
    "    try:\n",
    "        return 1 + 'a'\n",
    "    except TypeError:\n",
    "        print('There was a type error!')\n",
    "    except ZeroDivisionError:\n",
    "       print('There was a zero division error!')\n",
    "    except Exception:\n",
    "        print('There was some sort of error')\n",
    "\n",
    "\n",
    "causeError()"
   ]
  },
  {
   "cell_type": "code",
   "execution_count": null,
   "metadata": {},
   "outputs": [
    {
     "name": "stdout",
     "output_type": "stream",
     "text": [
      "There was a zero division error\n"
     ]
    }
   ],
   "source": [
    "def handleException(func):\n",
    "    def wrapper(*args):\n",
    "        try:\n",
    "            func(*args)\n",
    "        except TypeError:\n",
    "            print('There was a type error')\n",
    "        except ZeroDivisionError:\n",
    "            print('There was a zero division error')\n",
    "        except Exception:\n",
    "            print('There was some sort of error!')\n",
    "    return wrapper\n",
    "\n",
    "@handleException\n",
    "def causeError():\n",
    "    return 1/0\n",
    "\n",
    "causeError()"
   ]
  },
  {
   "cell_type": "code",
   "execution_count": null,
   "metadata": {},
   "outputs": [
    {
     "name": "stdout",
     "output_type": "stream",
     "text": [
      "1\n"
     ]
    }
   ],
   "source": [
    "@handleException\n",
    "def raiseError(n):\n",
    "    if n == 0:\n",
    "        raise Exception()\n",
    "    print(n)\n",
    "raiseError(1)"
   ]
  },
  {
   "cell_type": "code",
   "execution_count": null,
   "metadata": {},
   "outputs": [
    {
     "data": {
      "text/plain": [
       "<function __main__.raiseServerError()>"
      ]
     },
     "metadata": {},
     "output_type": "display_data"
    }
   ],
   "source": [
    "class HttpException(Exception):\n",
    "    statusCode=None\n",
    "    message = None\n",
    "    def __init__(self):\n",
    "        super().__init__(f'Status code: {self.statusCode} and message is: {self.message}')\n",
    "\n",
    "class NotFound(HttpException):\n",
    "    statusCode=484\n",
    "    message= 'Resource not found'\n",
    "\n",
    "class NotFound(HttpException):\n",
    "    statusCode=500\n",
    "    message= 'The server messed up!'\n",
    "\n",
    "def raiseServerError():\n",
    "    raiseServerError()\n",
    "\n",
    "raiseServerError"
   ]
  },
  {
   "cell_type": "code",
   "execution_count": null,
   "metadata": {},
   "outputs": [],
   "source": [
    "import threading \n",
    "import time"
   ]
  },
  {
   "cell_type": "code",
   "execution_count": null,
   "metadata": {},
   "outputs": [
    {
     "data": {
      "text/plain": [
       "[0, 1, 4, 9, 16]"
      ]
     },
     "metadata": {},
     "output_type": "display_data"
    }
   ],
   "source": [
    "def longSquare(num):\n",
    "    time.sleep(1)\n",
    "    return num**2\n",
    "[longSquare(n) for n in range(0,5)]"
   ]
  },
  {
   "cell_type": "code",
   "execution_count": null,
   "metadata": {},
   "outputs": [
    {
     "name": "stderr",
     "output_type": "stream",
     "text": [
      "Exception in thread Exception in thread Thread-6 (longSquare):\n",
      "Traceback (most recent call last):\n",
      "  File \"c:\\Users\\Anathi.Vato\\AppData\\Local\\Programs\\Python\\Python312\\Lib\\threading.py\", line 1073, in _bootstrap_inner\n",
      "Thread-5 (longSquare):\n",
      "Traceback (most recent call last):\n",
      "  File \"c:\\Users\\Anathi.Vato\\AppData\\Local\\Programs\\Python\\Python312\\Lib\\threading.py\", line 1073, in _bootstrap_inner\n",
      "    self.run()\n",
      "  File \"c:\\Users\\Anathi.Vato\\AppData\\Local\\Programs\\Python\\Python312\\Lib\\site-packages\\ipykernel\\ipkernel.py\", line 761, in run_closure\n",
      "    self.run()\n",
      "  File \"c:\\Users\\Anathi.Vato\\AppData\\Local\\Programs\\Python\\Python312\\Lib\\site-packages\\ipykernel\\ipkernel.py\", line 761, in run_closure\n",
      "    _threading_Thread_run(self)\n",
      "  File \"c:\\Users\\Anathi.Vato\\AppData\\Local\\Programs\\Python\\Python312\\Lib\\threading.py\", line 1010, in run\n",
      "    self._target(*self._args, **self._kwargs)\n",
      "TypeError: __main__.longSquare() argument after * must be an iterable, not int\n",
      "    _threading_Thread_run(self)\n",
      "  File \"c:\\Users\\Anathi.Vato\\AppData\\Local\\Programs\\Python\\Python312\\Lib\\threading.py\", line 1010, in run\n",
      "    self._target(*self._args, **self._kwargs)\n",
      "TypeError: __main__.longSquare() argument after * must be an iterable, not int\n"
     ]
    }
   ],
   "source": [
    "t1= threading.Thread(target=longSquare, args=1)\n",
    "t2= threading.Thread(target=longSquare, args=2)\n",
    "\n",
    "t1.start()\n",
    "t2.start()\n",
    "\n",
    "t1.join()\n",
    "t2.join()"
   ]
  },
  {
   "cell_type": "code",
   "execution_count": null,
   "metadata": {},
   "outputs": [],
   "source": [
    "from multiprocessing import Process\n",
    "import time\n",
    "import threading\n"
   ]
  },
  {
   "cell_type": "code",
   "execution_count": null,
   "metadata": {},
   "outputs": [
    {
     "data": {
      "text/plain": [
       "[None, None, None, None, None, None, None, None, None, None]"
      ]
     },
     "metadata": {},
     "output_type": "display_data"
    }
   ],
   "source": [
    "\n",
    "def longSquare(num, results):\n",
    "    time.sleep(1)\n",
    "    print(num**2)\n",
    "    print('Finished computing')\n",
    "\n",
    "results = {}\n",
    "processes= [Process(target=longSquare, args=(n,results)) for n in range(0,10)]\n",
    "[p.start() for p in processes]\n",
    "[p.join() for p in processes]"
   ]
  },
  {
   "cell_type": "code",
   "execution_count": null,
   "metadata": {},
   "outputs": [
    {
     "name": "stdout",
     "output_type": "stream",
     "text": [
      "<_io.TextIOWrapper name='10_01.txt' mode='r' encoding='cp1252'>\n"
     ]
    }
   ],
   "source": [
    "f = open('10_01.txt' ,'r')\n",
    "print(f)"
   ]
  },
  {
   "cell_type": "code",
   "execution_count": null,
   "metadata": {},
   "outputs": [
    {
     "name": "stdout",
     "output_type": "stream",
     "text": [
      "0\n",
      "1\n",
      "2\n",
      "3\n",
      "4\n",
      "Thread execution complete.\n"
     ]
    }
   ],
   "source": [
    "import threading\n",
    "\n",
    "# Define a function to be executed by the thread\n",
    "def print_numbers():\n",
    "    for i in range(5):\n",
    "        print(i)\n",
    "\n",
    "# Create a thread\n",
    "thread = threading.Thread(target=print_numbers)\n",
    "\n",
    "# Start the thread\n",
    "thread.start()\n",
    "\n",
    "# Wait for the thread to finish (optional)\n",
    "thread.join()# to execute the print statement\n",
    "\n",
    "print(\"Thread execution complete.\")\n"
   ]
  },
  {
   "cell_type": "code",
   "execution_count": null,
   "metadata": {},
   "outputs": [
    {
     "name": "stdout",
     "output_type": "stream",
     "text": [
      "<_io.TextIOWrapper name='10_01.txt' mode='a' encoding='cp1252'>\n"
     ]
    }
   ],
   "source": [
    "f = open('10_01.txt' ,'a')\n",
    "print(f)"
   ]
  },
  {
   "cell_type": "code",
   "execution_count": null,
   "metadata": {},
   "outputs": [
    {
     "name": "stdout",
     "output_type": "stream",
     "text": [
      "<_io.TextIOWrapper name='10_01.txt' mode='r' encoding='cp1252'>\n"
     ]
    }
   ],
   "source": [
    "f = open('10_01.txt' ,'r')\n",
    "print(f)"
   ]
  },
  {
   "cell_type": "code",
   "execution_count": null,
   "metadata": {},
   "outputs": [
    {
     "data": {
      "text/plain": [
       "''"
      ]
     },
     "metadata": {},
     "output_type": "display_data"
    }
   ],
   "source": [
    "f.readline()"
   ]
  },
  {
   "cell_type": "code",
   "execution_count": null,
   "metadata": {},
   "outputs": [
    {
     "data": {
      "text/plain": [
       "7"
      ]
     },
     "metadata": {},
     "output_type": "display_data"
    }
   ],
   "source": [
    "f = open(\"names.txt\", \"w\")\n",
    "f.write('Line 1\\n')\n",
    "f.write('Line 2\\n')"
   ]
  },
  {
   "cell_type": "code",
   "execution_count": null,
   "metadata": {},
   "outputs": [],
   "source": [
    "#my_list = [\"Ayşe\", \"Ceyda\", \"Ceren\"]\n",
    "\n",
    "f = open(\"names.txt\", \"w\")\n",
    "#for i in my_list:\n",
    "f.write(\"\\n\")\n",
    "f.close() "
   ]
  },
  {
   "cell_type": "code",
   "execution_count": null,
   "metadata": {},
   "outputs": [
    {
     "data": {
      "text/plain": [
       "7"
      ]
     },
     "metadata": {},
     "output_type": "display_data"
    }
   ],
   "source": [
    "f = open(\"names.txt\", \"w\")\n",
    "f.write('Line 1\\n')\n",
    "f.write('Line 2\\n')"
   ]
  },
  {
   "cell_type": "code",
   "execution_count": null,
   "metadata": {},
   "outputs": [],
   "source": [
    "f.close()"
   ]
  },
  {
   "cell_type": "code",
   "execution_count": null,
   "metadata": {},
   "outputs": [],
   "source": [
    "f = open(\"names.txt\", \"a\")\n",
    "f.write('Line 3\\n')\n",
    "f.write('Line 4\\n')\n",
    "f.close()"
   ]
  },
  {
   "cell_type": "code",
   "execution_count": null,
   "metadata": {},
   "outputs": [
    {
     "name": "stdout",
     "output_type": "stream",
     "text": [
      "<_io.TextIOWrapper name='10_01_output.txt' mode='a' encoding='cp1252'>\n"
     ]
    }
   ],
   "source": [
    "with open('10_01_output.txt', 'a') as f:\n",
    "    f.write('some stuff\\n')\n",
    "    f.write('some other stuff\\n')\n",
    "\n",
    "print(f)"
   ]
  },
  {
   "cell_type": "code",
   "execution_count": null,
   "metadata": {},
   "outputs": [
    {
     "data": {
      "text/plain": [
       "23"
      ]
     },
     "metadata": {},
     "output_type": "display_data"
    }
   ],
   "source": [
    "\n",
    "f=open(\"names.txt\", \"a\")\n",
    "f.write('PS. I forgot some stuff')\n"
   ]
  },
  {
   "cell_type": "code",
   "execution_count": null,
   "metadata": {},
   "outputs": [],
   "source": [
    "f.close()"
   ]
  },
  {
   "cell_type": "code",
   "execution_count": null,
   "metadata": {},
   "outputs": [],
   "source": [
    "import csv"
   ]
  },
  {
   "cell_type": "code",
   "execution_count": null,
   "metadata": {},
   "outputs": [
    {
     "name": "stdout",
     "output_type": "stream",
     "text": [
      "['Name', 'Surname', 'Age', 'Address', 'Phone no', 'Date']\n",
      "['Minxey', 'Nela', '45', '123 balfour', '5765', '26/03/2024']\n",
      "<_io.TextIOWrapper name='10_02_us.csv' mode='r' encoding='cp1252'>\n"
     ]
    }
   ],
   "source": [
    "#f=open('10_02_us.csv','r')\n",
    "with open('10_02_us.csv','r') as f:\n",
    "    reader=csv.reader(f, delimiter= '\\t')\n",
    "    for row in reader:\n",
    "        print(row)\n",
    "print(f)"
   ]
  },
  {
   "cell_type": "code",
   "execution_count": null,
   "metadata": {},
   "outputs": [],
   "source": [
    "#converting a reader to list\n",
    "with open('10_02_us.csv','r') as f:\n",
    "    data=list(csv.DictReader(f, delimiter='\\t'))"
   ]
  },
  {
   "cell_type": "code",
   "execution_count": null,
   "metadata": {},
   "outputs": [],
   "source": [
    "primes=[]\n",
    "for number in range(2,99999):\n",
    "    for factor in range(2,int(number **0.5)):\n",
    "        if number % factor ==0:\n",
    "            break\n",
    "    else:\n",
    "        primes.append(number)"
   ]
  },
  {
   "cell_type": "code",
   "execution_count": null,
   "metadata": {},
   "outputs": [
    {
     "data": {
      "text/plain": [
       "0"
      ]
     },
     "metadata": {},
     "output_type": "display_data"
    }
   ],
   "source": [
    "data=[row for row in data if int(row['Age']) in primes and row['address']=='MA']\n",
    "len(data)"
   ]
  },
  {
   "cell_type": "code",
   "execution_count": null,
   "metadata": {},
   "outputs": [
    {
     "data": {
      "text/plain": [
       "0"
      ]
     },
     "metadata": {},
     "output_type": "display_data"
    }
   ],
   "source": [
    "data=[row for row in data if int(row['Age']) in primes and row['address']=='MA']\n",
    "len(data)"
   ]
  },
  {
   "cell_type": "code",
   "execution_count": null,
   "metadata": {},
   "outputs": [],
   "source": [
    "with open('10_02_ma_prime.csv','w') as f:\n",
    "    writer=csv.writer(f)\n",
    "    for row in data:\n",
    "        writer.writerow[row['place name'],row['country']]"
   ]
  },
  {
   "cell_type": "code",
   "execution_count": null,
   "metadata": {},
   "outputs": [
    {
     "name": "stdout",
     "output_type": "stream",
     "text": [
      "Could not parse JSON!\n"
     ]
    }
   ],
   "source": [
    "from json import JSONDecodeError\n",
    "import json\n",
    "\n",
    "jsonString='{\"a\": \"apple\", \"b\",\"bear\", \"c\",\"cat\",}'\n",
    "try:\n",
    "    json.loads(jsonString)\n",
    "except JSONDecodeError:\n",
    "    print('Could not parse JSON!')"
   ]
  },
  {
   "cell_type": "code",
   "execution_count": null,
   "metadata": {},
   "outputs": [
    {
     "data": {
      "text/plain": [
       "'{\"a\": \"apple\", \"b\":\"bear\", \"c\":\"cat\",}'"
      ]
     },
     "metadata": {},
     "output_type": "display_data"
    }
   ],
   "source": [
    "'{\"a\": \"apple\", \"b\":\"bear\", \"c\":\"cat\",}'"
   ]
  },
  {
   "cell_type": "code",
   "execution_count": null,
   "metadata": {},
   "outputs": [
    {
     "data": {
      "text/plain": [
       "'{\"a\": \"apple\", \"b\": \"bear\", \"c\": \"cat\"}'"
      ]
     },
     "metadata": {},
     "output_type": "display_data"
    }
   ],
   "source": [
    "pythonDict={'a':'apple','b':'bear','c':'cat',}\n",
    "json.dumps(pythonDict)"
   ]
  },
  {
   "cell_type": "markdown",
   "metadata": {},
   "source": []
  },
  {
   "cell_type": "code",
   "execution_count": null,
   "metadata": {},
   "outputs": [
    {
     "data": {
      "text/plain": [
       "'{\"a\": \"aardvark\", \"b\": \"bear\", \"c\": \"cat\"}'"
      ]
     },
     "metadata": {},
     "output_type": "display_data"
    }
   ],
   "source": [
    "from json import JSONEncoder\n",
    "class Animal:\n",
    "    def __init__(self,name):\n",
    "        self.name=name\n",
    "\n",
    "class AnimalEncoder(JSONEncoder):\n",
    "    def default(self,o):\n",
    "        if type(o)== Animal:\n",
    "            return o.name\n",
    "        return super().default(o)\n",
    "pythonDict= {'a': Animal('aardvark'), 'b':Animal('bear'),'c': Animal('cat'),}\n",
    "json.dumps(pythonDict,cls=AnimalEncoder)"
   ]
  },
  {
   "cell_type": "code",
   "execution_count": null,
   "metadata": {},
   "outputs": [
    {
     "name": "stdout",
     "output_type": "stream",
     "text": [
      "10 20 30\n"
     ]
    }
   ],
   "source": [
    "p, q, r = 10, 20 ,30\n",
    "print(p, q, r)"
   ]
  },
  {
   "cell_type": "code",
   "execution_count": null,
   "metadata": {},
   "outputs": [
    {
     "name": "stdout",
     "output_type": "stream",
     "text": [
      "182.0\n"
     ]
    }
   ],
   "source": [
    "x = 36 / 4 * (3 +  2) * 4 + 2\n",
    "print(x)"
   ]
  },
  {
   "cell_type": "code",
   "execution_count": 1,
   "metadata": {},
   "outputs": [
    {
     "name": "stdout",
     "output_type": "stream",
     "text": [
      "emp\n",
      "salary\n"
     ]
    }
   ],
   "source": [
    "#Practise\n",
    "def display(**kwargs):\n",
    "    for i in kwargs:\n",
    "        print(i)\n",
    "\n",
    "display(emp=\"Kelly\", salary=9000)"
   ]
  },
  {
   "cell_type": "code",
   "execution_count": 2,
   "metadata": {},
   "outputs": [
    {
     "name": "stdout",
     "output_type": "stream",
     "text": [
      "WelcomeWelcome\n"
     ]
    }
   ],
   "source": [
    "str1 = 'Welcome'\n",
    "print(str1*2)"
   ]
  },
  {
   "cell_type": "code",
   "execution_count": 3,
   "metadata": {},
   "outputs": [
    {
     "data": {
      "text/plain": [
       "\"'char'\""
      ]
     },
     "execution_count": 3,
     "metadata": {},
     "output_type": "execute_result"
    }
   ],
   "source": [
    "ascii('char')"
   ]
  },
  {
   "cell_type": "code",
   "execution_count": null,
   "metadata": {},
   "outputs": [],
   "source": []
  },
  {
   "cell_type": "code",
   "execution_count": 6,
   "metadata": {},
   "outputs": [
    {
     "name": "stdout",
     "output_type": "stream",
     "text": [
      "First Output after Title() method is =  Geeks For Geeks\n"
     ]
    }
   ],
   "source": [
    "#title method\n",
    "str1 = 'geeKs foR geEks'\n",
    "str2 = str1.title()\n",
    "print('First Output after Title() method is = ', str2)"
   ]
  },
  {
   "cell_type": "code",
   "execution_count": 7,
   "metadata": {},
   "outputs": [
    {
     "name": "stdout",
     "output_type": "stream",
     "text": [
      "Geeks for geeks\n"
     ]
    }
   ],
   "source": [
    "name = \"geeks for geeks\"\n",
    " \n",
    "print(name.capitalize())"
   ]
  },
  {
   "cell_type": "code",
   "execution_count": 1,
   "metadata": {},
   "outputs": [
    {
     "name": "stdout",
     "output_type": "stream",
     "text": [
      "[10, 20, 30, 40, 50, 60]\n",
      "[10, 20, 30, 40, 50, 60, 60]\n"
     ]
    }
   ],
   "source": [
    "sampleList = [10, 20, 30, 40, 50]\n",
    "sampleList.append(60)\n",
    "print(sampleList)\n",
    "\n",
    "sampleList.append(60)\n",
    "print(sampleList)"
   ]
  },
  {
   "cell_type": "code",
   "execution_count": 2,
   "metadata": {},
   "outputs": [
    {
     "name": "stdout",
     "output_type": "stream",
     "text": [
      "{10, 20}\n",
      "{100, 60}\n"
     ]
    }
   ],
   "source": [
    "A = {10, 20, 30, 40, 80}\n",
    "B = {100, 30, 80, 40, 60}\n",
    "print (A.difference(B))\n",
    "print (B.difference(A))"
   ]
  }
 ],
 "metadata": {
  "kernelspec": {
   "display_name": "Python 3",
   "language": "python",
   "name": "python3"
  },
  "language_info": {
   "codemirror_mode": {
    "name": "ipython",
    "version": 3
   },
   "file_extension": ".py",
   "mimetype": "text/x-python",
   "name": "python",
   "nbconvert_exporter": "python",
   "pygments_lexer": "ipython3",
   "version": "3.12.2"
  }
 },
 "nbformat": 4,
 "nbformat_minor": 2
}
